{
 "metadata": {
  "language_info": {
   "codemirror_mode": {
    "name": "ipython",
    "version": 3
   },
   "file_extension": ".py",
   "mimetype": "text/x-python",
   "name": "python",
   "nbconvert_exporter": "python",
   "pygments_lexer": "ipython3",
   "version": "3.8.2-final"
  },
  "orig_nbformat": 2,
  "kernelspec": {
   "name": "python38264bit4057238c702f40d8a823b57157fffd7f",
   "display_name": "Python 3.8.2 64-bit"
  }
 },
 "nbformat": 4,
 "nbformat_minor": 2,
 "cells": [
  {
   "cell_type": "code",
   "execution_count": 2,
   "metadata": {},
   "outputs": [],
   "source": [
    "import requests\n",
    "from bs4 import BeautifulSoup\n",
    "\n",
    "DOC_TYPE_CEDULA_CHILENA = \"CEDULA\"\n",
    "DOC_TYPE_CEDULA_EXTRANJEROS = \"CEDULA_EXT\"\n",
    "DOC_TYPE_PASAPORTE_PG = \"PASAPORTE_PG\"\n",
    "DOC_TYPE_PASAPORTE_DIPLOMATICO = \"PASAPORTE_DIPLOMATICO\"\n",
    "DOC_TYPE_PASAPORTE_OFICIAL = \"PASAPORTE_OFICIAL\"\n",
    "\n",
    "def validar_documento(run, docNumber, docType):\n",
    "    session = requests.Session()\n",
    "    session.headers.update({'User-Agent': 'Mozilla/5.0 (Windows NT 6.1; Win64; x64) AppleWebKit/537.36 (KHTML, like Gecko) Chrome/83.0.4103.116 Safari/537.36'})\n",
    "    session.verify = False\n",
    "\n",
    "    # init session\n",
    "    response = session.get('https://portal.sidiv.registrocivil.cl/usuarios-portal/pages/DocumentRequestStatus.xhtml')\n",
    "    response.raise_for_status()\n",
    "    soup = BeautifulSoup(response.content, 'lxml')\n",
    "    captcha_url = 'https://portal.sidiv.registrocivil.cl'+soup.select('#form\\:captchaPanel img')[0].get('src')\n",
    "    print('captcha_url', captcha_url)\n",
    "    view_state = soup.find(id='javax.faces.ViewState').get('value')\n",
    "    print('view_state', view_state)\n",
    "\n",
    "    \n",
    "    # solve captcha\n",
    "    response = requests.post('https://captcha-solvers.herokuapp.com/myfacescaptcha', data={\n",
    "        'image_url': captcha_url\n",
    "    })\n",
    "    response.raise_for_status()\n",
    "    captcha_text = response.json()['text']\n",
    "    print('captcha_text', captcha_text)\n",
    "\n",
    "    # request status\n",
    "    formdata = {\n",
    "        'form': 'form',\n",
    "        'form:captchaUrl': 'initial',\n",
    "        'form:run': run,\n",
    "        'form:selectDocType': docType,\n",
    "        'form:docNumber': docNumber,\n",
    "        'form:inputCaptcha': captcha_text,\n",
    "        'form:buttonHidden': '',\n",
    "        'javax.faces.ViewState': view_state\n",
    "    }\n",
    "    response = session.post('https://portal.sidiv.registrocivil.cl/usuarios-portal/pages/DocumentRequestStatus.xhtml', data=formdata)\n",
    "    response.raise_for_status()\n",
    "    soup = BeautifulSoup(response.content, 'lxml')\n",
    "\n",
    "    status = soup.find(class_='setWidthOfSecondColumn').get_text(strip=True)\n",
    "    if not status: raise Exception(\"DOCUMENT DOES NOT MATCH!\")\n",
    "    return status"
   ]
  },
  {
   "cell_type": "code",
   "execution_count": 7,
   "metadata": {
    "tags": []
   },
   "outputs": [
    {
     "output_type": "stream",
     "name": "stdout",
     "text": "captcha_url https://portal.sidiv.registrocivil.cl/usuarios-portal/faces/myFacesExtensionResource/org.apache.myfaces.custom.captcha.CAPTCHARenderer/15923103/;jsessionid=4019345E1B76224806A63A36C7836197.tomcat5?captchaSessionKeyName=mySessionKeyName\nview_state -6603055237055888119:-6875277701094112449\ncaptcha_text SNHn8\nstatus VIGENTE\n"
    }
   ],
   "source": [
    "status = validar_documento('15011651-1', '521264669', DOC_TYPE_CEDULA_CHILENA)\n",
    "print('status', status.upper())"
   ]
  },
  {
   "cell_type": "code",
   "execution_count": null,
   "metadata": {},
   "outputs": [],
   "source": []
  }
 ]
}